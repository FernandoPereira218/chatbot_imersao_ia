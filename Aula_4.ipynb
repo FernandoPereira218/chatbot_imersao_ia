{
  "nbformat": 4,
  "nbformat_minor": 0,
  "metadata": {
    "colab": {
      "provenance": [],
      "authorship_tag": "ABX9TyNAEWFYAf3AzPJq9Gj8cHEm",
      "include_colab_link": true
    },
    "kernelspec": {
      "name": "python3",
      "display_name": "Python 3"
    },
    "language_info": {
      "name": "python"
    }
  },
  "cells": [
    {
      "cell_type": "markdown",
      "metadata": {
        "id": "view-in-github",
        "colab_type": "text"
      },
      "source": [
        "<a href=\"https://colab.research.google.com/github/FernandoPereira218/chatbot_imersao_ia/blob/main/Aula_4.ipynb\" target=\"_parent\"><img src=\"https://colab.research.google.com/assets/colab-badge.svg\" alt=\"Open In Colab\"/></a>"
      ]
    },
    {
      "cell_type": "markdown",
      "source": [
        "Instalando o SDK do google"
      ],
      "metadata": {
        "id": "U119-OTKKFd6"
      }
    },
    {
      "cell_type": "code",
      "execution_count": null,
      "metadata": {
        "id": "yAvlfjDXHhL8"
      },
      "outputs": [],
      "source": [
        "!pip install -q -U google-generativeai"
      ]
    },
    {
      "cell_type": "code",
      "source": [
        "# Import the Python SDK\n",
        "import google.generativeai as genai\n",
        "# Used to securely store your API key\n",
        "from google.colab import userdata\n",
        "API_KEY = userdata.get(\"SECRET_KEY\")\n",
        "GOOGLE_API_KEY=API_KEY\n",
        "genai.configure(api_key=GOOGLE_API_KEY)"
      ],
      "metadata": {
        "id": "qywGUsArKS4f"
      },
      "execution_count": 15,
      "outputs": []
    },
    {
      "cell_type": "markdown",
      "source": [
        "Listar os modelos disponíveis"
      ],
      "metadata": {
        "id": "Jyj8ajZSKgPD"
      }
    },
    {
      "cell_type": "code",
      "source": [
        "for i in genai.list_models():\n",
        "  if 'generateContent' in i.supported_generation_methods:\n",
        "    print(i.name)"
      ],
      "metadata": {
        "colab": {
          "base_uri": "https://localhost:8080/",
          "height": 142
        },
        "id": "VWAt-GjvKbkx",
        "outputId": "910497c1-f3c0-462b-f9f1-22a8b763976e"
      },
      "execution_count": 16,
      "outputs": [
        {
          "output_type": "stream",
          "name": "stdout",
          "text": [
            "models/gemini-1.0-pro\n",
            "models/gemini-1.0-pro-001\n",
            "models/gemini-1.0-pro-latest\n",
            "models/gemini-1.0-pro-vision-latest\n",
            "models/gemini-1.5-pro-latest\n",
            "models/gemini-pro\n",
            "models/gemini-pro-vision\n"
          ]
        }
      ]
    },
    {
      "cell_type": "code",
      "source": [
        "generation_config = {\n",
        "    \"candidate_count\": 1,\n",
        "    \"temperature\": 0.5,\n",
        "}"
      ],
      "metadata": {
        "id": "9uyAmYyrMPKi"
      },
      "execution_count": 17,
      "outputs": []
    },
    {
      "cell_type": "code",
      "source": [
        "safety_settings = {\n",
        "    \"HARASSMENT\": \"BLOCK_NONE\",\n",
        "    \"HATE\": \"BLOCK_NONE\",\n",
        "    \"SEXUAL\": \"BLOCK_NONE\",\n",
        "    \"DANGEROUS\": \"BLOCK_NONE\",\n",
        "}"
      ],
      "metadata": {
        "id": "vz9SJTJRM9T8"
      },
      "execution_count": 18,
      "outputs": []
    },
    {
      "cell_type": "markdown",
      "source": [
        "Inicializando o modelo"
      ],
      "metadata": {
        "id": "UiMOGmWQNbjy"
      }
    },
    {
      "cell_type": "code",
      "source": [
        "model = genai.GenerativeModel(model_name=\"gemini-1.0-pro\",\n",
        "                              generation_config=generation_config,\n",
        "                              safety_settings=safety_settings)"
      ],
      "metadata": {
        "id": "Vilt274kNd2P"
      },
      "execution_count": 19,
      "outputs": []
    },
    {
      "cell_type": "code",
      "source": [
        "response = model.generate_content('Vamos aprender sobre IA. Me dê sugestões')\n",
        "print(response.text)"
      ],
      "metadata": {
        "colab": {
          "base_uri": "https://localhost:8080/",
          "height": 803
        },
        "id": "L8nOYRCAOP2c",
        "outputId": "d4b9d4cc-1e82-463f-bd04-f7503c81fbfd"
      },
      "execution_count": 20,
      "outputs": [
        {
          "output_type": "stream",
          "name": "stdout",
          "text": [
            "**Cursos e Certificações:**\n",
            "\n",
            "* Curso de Inteligência Artificial da Universidade de Stanford\n",
            "* Certificação de Especialização em Aprendizado de Máquina da Universidade de Washington\n",
            "* Curso de Inteligência Artificial da edX\n",
            "* Curso de Aprendizado de Máquina da Coursera\n",
            "* Certificação de Especialização em Inteligência Artificial da Universidade de Toronto\n",
            "\n",
            "**Livros e Recursos:**\n",
            "\n",
            "* \"Inteligência Artificial: Uma Abordagem Moderna\" por Stuart Russell e Peter Norvig\n",
            "* \"Aprendizado de Máquina\" por Tom Mitchell\n",
            "* \"Inteligência Artificial: Princípios e Técnicas\" por Elaine Rich e Kevin Knight\n",
            "* Documentação do TensorFlow\n",
            "* Documentação do PyTorch\n",
            "\n",
            "**Comunidades e Fóruns:**\n",
            "\n",
            "* Reddit r/MachineLearning\n",
            "* Comunidade do TensorFlow\n",
            "* Fórum do PyTorch\n",
            "* Stack Overflow (tag: ai)\n",
            "\n",
            "**Eventos e Conferências:**\n",
            "\n",
            "* Conferência Internacional sobre Aprendizado de Máquina (ICML)\n",
            "* Conferência sobre Visão Computacional e Reconhecimento de Padrões (CVPR)\n",
            "* Conferência Internacional sobre Inteligência Artificial (IJCAI)\n",
            "* Conferência sobre Neural Information Processing Systems (NeurIPS)\n",
            "\n",
            "**Projetos Práticos:**\n",
            "\n",
            "* Construa um modelo de aprendizado de máquina para classificação de imagens\n",
            "* Crie um chatbot usando processamento de linguagem natural\n",
            "* Desenvolva um sistema de recomendação usando aprendizado colaborativo\n",
            "* Treine uma rede neural para reconhecimento de fala\n",
            "* Implemente um algoritmo de visão computacional para detecção de objetos\n",
            "\n",
            "**Recursos Adicionais:**\n",
            "\n",
            "* Glossário de Inteligência Artificial\n",
            "* Tutorial de Inteligência Artificial para Iniciantes\n",
            "* Guia de Aprendizado de Máquina para Não Técnicos\n",
            "* IA Explicada: Um Guia Simples para Inteligência Artificial\n"
          ]
        }
      ]
    },
    {
      "cell_type": "code",
      "source": [
        "chat = model.start_chat(history=[])"
      ],
      "metadata": {
        "id": "mTYt8CZVOvbZ"
      },
      "execution_count": 21,
      "outputs": []
    },
    {
      "cell_type": "code",
      "source": [
        "prompt = input('Esperando prompt: ')\n",
        "\n",
        "while prompt != \"fim\":\n",
        "  response = chat.send_message(prompt)\n",
        "  print(\"Resposta: \", response.text, '\\n\\n')\n",
        "  prompt = input('Esperando prompt: ')"
      ],
      "metadata": {
        "colab": {
          "base_uri": "https://localhost:8080/",
          "height": 1000
        },
        "id": "bYRa9kcXPTmC",
        "outputId": "55ed915f-9a53-4de3-93a3-090c6404a16e"
      },
      "execution_count": 22,
      "outputs": [
        {
          "name": "stdout",
          "output_type": "stream",
          "text": [
            "Esperando prompt: FIM\n",
            "Resposta:  **FIM**\n",
            "\n",
            "**Full Form:** Functional Independence Measure\n",
            "\n",
            "**Definition:**\n",
            "\n",
            "The Functional Independence Measure (FIM) is a standardized assessment tool used to evaluate the functional status of individuals with disabilities or impairments. It measures the level of assistance required for an individual to perform activities of daily living (ADLs) and motor skills.\n",
            "\n",
            "**Purpose:**\n",
            "\n",
            "* To assess the functional abilities of individuals across various settings, including hospitals, rehabilitation centers, and community environments.\n",
            "* To track changes in functional status over time.\n",
            "* To identify areas of need for intervention and support.\n",
            "* To determine eligibility for services and benefits.\n",
            "* To facilitate communication between healthcare professionals and patients/caregivers.\n",
            "\n",
            "**Domains Assessed:**\n",
            "\n",
            "The FIM assesses 18 domains, grouped into two categories:\n",
            "\n",
            "* **Motor:**\n",
            "    * Self-care (eating, dressing, bathing)\n",
            "    * Sphincter control (bladder and bowel management)\n",
            "    * Transfers (bed to chair, chair to toilet)\n",
            "    * Locomotion (walking, wheelchair use)\n",
            "* **Cognitive:**\n",
            "    * Communication (expression, comprehension)\n",
            "    * Social cognition (problem-solving, judgment)\n",
            "    * Memory (short-term, long-term)\n",
            "\n",
            "**Scoring:**\n",
            "\n",
            "Each domain is scored on a 7-point scale, ranging from:\n",
            "\n",
            "* 1 (Total Assistance) to 7 (Complete Independence)\n",
            "\n",
            "The total FIM score is the sum of the scores for all 18 domains.\n",
            "\n",
            "**Interpretation:**\n",
            "\n",
            "* **FIM Score of 120:** Complete independence in all domains.\n",
            "* **FIM Score of 90-119:** Moderate to high functional independence.\n",
            "* **FIM Score of 60-89:** Substantial assistance required for some activities.\n",
            "* **FIM Score of 30-59:** Significant assistance required for most activities.\n",
            "* **FIM Score of 18-29:** Total assistance required for all activities.\n",
            "\n",
            "**Uses:**\n",
            "\n",
            "The FIM is widely used in:\n",
            "\n",
            "* Rehabilitation settings to monitor progress and plan interventions.\n",
            "* Long-term care facilities to assess the need for assistance and services.\n",
            "* Home health settings to determine eligibility for home care services.\n",
            "* Research studies to evaluate the effectiveness of interventions and treatments. \n",
            "\n",
            "\n",
            "Esperando prompt: fim\n"
          ]
        }
      ]
    },
    {
      "cell_type": "code",
      "source": [
        "chat"
      ],
      "metadata": {
        "colab": {
          "base_uri": "https://localhost:8080/"
        },
        "id": "TpJIh98DRlUz",
        "outputId": "f68199ad-1343-485c-a9f7-42bab64b5d51"
      },
      "execution_count": 23,
      "outputs": [
        {
          "output_type": "execute_result",
          "data": {
            "text/plain": [
              "ChatSession(\n",
              "    model=genai.GenerativeModel(\n",
              "        model_name='models/gemini-1.0-pro',\n",
              "        generation_config={'candidate_count': 1, 'temperature': 0.5},\n",
              "        safety_settings={<HarmCategory.HARM_CATEGORY_HARASSMENT: 7>: <HarmBlockThreshold.BLOCK_NONE: 4>, <HarmCategory.HARM_CATEGORY_HATE_SPEECH: 8>: <HarmBlockThreshold.BLOCK_NONE: 4>, <HarmCategory.HARM_CATEGORY_SEXUALLY_EXPLICIT: 9>: <HarmBlockThreshold.BLOCK_NONE: 4>, <HarmCategory.HARM_CATEGORY_DANGEROUS_CONTENT: 10>: <HarmBlockThreshold.BLOCK_NONE: 4>},\n",
              "        tools=None,\n",
              "        system_instruction=None,\n",
              "    ),\n",
              "    history=[glm.Content({'parts': [{'text': 'FIM'}], 'role': 'user'}), glm.Content({'parts': [{'text': '**FIM**\\n\\n*...d treatments.'}], 'role': 'model'})]\n",
              ")"
            ]
          },
          "metadata": {},
          "execution_count": 23
        }
      ]
    },
    {
      "cell_type": "code",
      "source": [
        "chat.history"
      ],
      "metadata": {
        "colab": {
          "base_uri": "https://localhost:8080/"
        },
        "id": "jKU7AChyRoWL",
        "outputId": "fb5aeb94-fd94-4495-8317-0fdebbda2ae3"
      },
      "execution_count": 24,
      "outputs": [
        {
          "output_type": "execute_result",
          "data": {
            "text/plain": [
              "[parts {\n",
              "   text: \"FIM\"\n",
              " }\n",
              " role: \"user\",\n",
              " parts {\n",
              "   text: \"**FIM**\\n\\n**Full Form:** Functional Independence Measure\\n\\n**Definition:**\\n\\nThe Functional Independence Measure (FIM) is a standardized assessment tool used to evaluate the functional status of individuals with disabilities or impairments. It measures the level of assistance required for an individual to perform activities of daily living (ADLs) and motor skills.\\n\\n**Purpose:**\\n\\n* To assess the functional abilities of individuals across various settings, including hospitals, rehabilitation centers, and community environments.\\n* To track changes in functional status over time.\\n* To identify areas of need for intervention and support.\\n* To determine eligibility for services and benefits.\\n* To facilitate communication between healthcare professionals and patients/caregivers.\\n\\n**Domains Assessed:**\\n\\nThe FIM assesses 18 domains, grouped into two categories:\\n\\n* **Motor:**\\n    * Self-care (eating, dressing, bathing)\\n    * Sphincter control (bladder and bowel management)\\n    * Transfers (bed to chair, chair to toilet)\\n    * Locomotion (walking, wheelchair use)\\n* **Cognitive:**\\n    * Communication (expression, comprehension)\\n    * Social cognition (problem-solving, judgment)\\n    * Memory (short-term, long-term)\\n\\n**Scoring:**\\n\\nEach domain is scored on a 7-point scale, ranging from:\\n\\n* 1 (Total Assistance) to 7 (Complete Independence)\\n\\nThe total FIM score is the sum of the scores for all 18 domains.\\n\\n**Interpretation:**\\n\\n* **FIM Score of 120:** Complete independence in all domains.\\n* **FIM Score of 90-119:** Moderate to high functional independence.\\n* **FIM Score of 60-89:** Substantial assistance required for some activities.\\n* **FIM Score of 30-59:** Significant assistance required for most activities.\\n* **FIM Score of 18-29:** Total assistance required for all activities.\\n\\n**Uses:**\\n\\nThe FIM is widely used in:\\n\\n* Rehabilitation settings to monitor progress and plan interventions.\\n* Long-term care facilities to assess the need for assistance and services.\\n* Home health settings to determine eligibility for home care services.\\n* Research studies to evaluate the effectiveness of interventions and treatments.\"\n",
              " }\n",
              " role: \"model\"]"
            ]
          },
          "metadata": {},
          "execution_count": 24
        }
      ]
    },
    {
      "cell_type": "code",
      "source": [
        "#Melhorando a visualização\n",
        "#Código disponível em https://ai.google.dev/tutorials/python_quickstart#import_packages\n",
        "import textwrap\n",
        "from IPython.display import display\n",
        "from IPython.display import Markdown\n",
        "\n",
        "def to_markdown(text):\n",
        "  text = text.replace('•', '  *')\n",
        "  return Markdown(textwrap.indent(text, '> ', predicate=lambda _: True))\n",
        "\n",
        "#Imprimindo o histórico\n",
        "for message in chat.history:\n",
        "  display(to_markdown(f'**{message.role}**: {message.parts[0].text}'))\n",
        "  print('-------------------------------------------')"
      ],
      "metadata": {
        "colab": {
          "base_uri": "https://localhost:8080/",
          "height": 811
        },
        "id": "G8KPQShvRUQm",
        "outputId": "68645275-ac2f-4b6b-a95e-9b8acac0f89b"
      },
      "execution_count": null,
      "outputs": [
        {
          "output_type": "display_data",
          "data": {
            "text/plain": [
              "<IPython.core.display.Markdown object>"
            ],
            "text/markdown": "> **user**: hello world"
          },
          "metadata": {}
        },
        {
          "output_type": "stream",
          "name": "stdout",
          "text": [
            "-------------------------------------------\n"
          ]
        },
        {
          "output_type": "display_data",
          "data": {
            "text/plain": [
              "<IPython.core.display.Markdown object>"
            ],
            "text/markdown": "> **model**: Hello world! I am a large language model, trained by Google."
          },
          "metadata": {}
        },
        {
          "output_type": "stream",
          "name": "stdout",
          "text": [
            "-------------------------------------------\n"
          ]
        },
        {
          "output_type": "display_data",
          "data": {
            "text/plain": [
              "<IPython.core.display.Markdown object>"
            ],
            "text/markdown": "> **user**: qual a capital do japão?"
          },
          "metadata": {}
        },
        {
          "output_type": "stream",
          "name": "stdout",
          "text": [
            "-------------------------------------------\n"
          ]
        },
        {
          "output_type": "display_data",
          "data": {
            "text/plain": [
              "<IPython.core.display.Markdown object>"
            ],
            "text/markdown": "> **model**: Tóquio"
          },
          "metadata": {}
        },
        {
          "output_type": "stream",
          "name": "stdout",
          "text": [
            "-------------------------------------------\n"
          ]
        },
        {
          "output_type": "display_data",
          "data": {
            "text/plain": [
              "<IPython.core.display.Markdown object>"
            ],
            "text/markdown": "> **user**: qual a capital do japão?"
          },
          "metadata": {}
        },
        {
          "output_type": "stream",
          "name": "stdout",
          "text": [
            "-------------------------------------------\n"
          ]
        },
        {
          "output_type": "display_data",
          "data": {
            "text/plain": [
              "<IPython.core.display.Markdown object>"
            ],
            "text/markdown": "> **model**: Tóquio"
          },
          "metadata": {}
        },
        {
          "output_type": "stream",
          "name": "stdout",
          "text": [
            "-------------------------------------------\n"
          ]
        },
        {
          "output_type": "display_data",
          "data": {
            "text/plain": [
              "<IPython.core.display.Markdown object>"
            ],
            "text/markdown": "> **user**: qual é a comida típica desse país?"
          },
          "metadata": {}
        },
        {
          "output_type": "stream",
          "name": "stdout",
          "text": [
            "-------------------------------------------\n"
          ]
        },
        {
          "output_type": "display_data",
          "data": {
            "text/plain": [
              "<IPython.core.display.Markdown object>"
            ],
            "text/markdown": "> **model**: Sushi"
          },
          "metadata": {}
        },
        {
          "output_type": "stream",
          "name": "stdout",
          "text": [
            "-------------------------------------------\n"
          ]
        },
        {
          "output_type": "display_data",
          "data": {
            "text/plain": [
              "<IPython.core.display.Markdown object>"
            ],
            "text/markdown": "> **user**: qual é a população dessa cidade?"
          },
          "metadata": {}
        },
        {
          "output_type": "stream",
          "name": "stdout",
          "text": [
            "-------------------------------------------\n"
          ]
        },
        {
          "output_type": "display_data",
          "data": {
            "text/plain": [
              "<IPython.core.display.Markdown object>"
            ],
            "text/markdown": "> **model**: Tóquio tem uma população de aproximadamente 13,96 milhões de habitantes (estimativa de 2023)."
          },
          "metadata": {}
        },
        {
          "output_type": "stream",
          "name": "stdout",
          "text": [
            "-------------------------------------------\n"
          ]
        },
        {
          "output_type": "display_data",
          "data": {
            "text/plain": [
              "<IPython.core.display.Markdown object>"
            ],
            "text/markdown": "> **user**: você possui um histórico dessa conversa?"
          },
          "metadata": {}
        },
        {
          "output_type": "stream",
          "name": "stdout",
          "text": [
            "-------------------------------------------\n"
          ]
        },
        {
          "output_type": "display_data",
          "data": {
            "text/plain": [
              "<IPython.core.display.Markdown object>"
            ],
            "text/markdown": "> **model**: Não tenho um histórico de conversas no sentido tradicional, pois não armazeno dados específicos de conversas com usuários individuais. No entanto, mantenho um registro das interações gerais e tendências para melhorar meu desempenho e fornecer respostas mais úteis e informativas."
          },
          "metadata": {}
        },
        {
          "output_type": "stream",
          "name": "stdout",
          "text": [
            "-------------------------------------------\n"
          ]
        }
      ]
    }
  ]
}